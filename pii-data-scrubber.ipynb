{
 "cells": [
  {
   "cell_type": "code",
   "execution_count": 1,
   "id": "784e661b",
   "metadata": {},
   "outputs": [],
   "source": [
    "# Import necessary libraries\n",
    "import pandas as pd\n",
    "from azure.ai.textanalytics import TextAnalyticsClient\n",
    "from azure.core.credentials import AzureKeyCredential"
   ]
  },
  {
   "cell_type": "code",
   "execution_count": 26,
   "id": "5787cb96",
   "metadata": {},
   "outputs": [],
   "source": [
    "# Define the service key and endpoint of Azure Text Analytics\n",
    "key = \"PLEASE_ENTER_YOUR_OWNED_AZURE_TEXT_ANALYTICS_SERVICE_KEY\"\n",
    "endpoint = \"https://PLEASE_ENTER_YOUR_OWNED_AZURE_TEXT_ANALYTICS_INSTANCE_NAME.cognitiveservices.azure.com/\""
   ]
  },
  {
   "cell_type": "code",
   "execution_count": 3,
   "id": "8a4444e5",
   "metadata": {},
   "outputs": [],
   "source": [
    "# Function to connect and authenticate with Azure Text Analytics \n",
    "def authenticate_client():\n",
    "    ta_credential = AzureKeyCredential(key)\n",
    "    text_analytics_client = TextAnalyticsClient(\n",
    "            endpoint=endpoint, \n",
    "            credential=ta_credential)\n",
    "    return text_analytics_client\n",
    "\n",
    "client = authenticate_client()"
   ]
  },
  {
   "cell_type": "code",
   "execution_count": 4,
   "id": "6d51b673",
   "metadata": {},
   "outputs": [
    {
     "name": "stdout",
     "output_type": "stream",
     "text": [
      "PII Scrubbed Text: *******************, ****************, *******************\n",
      "PII Scrubbed Text: *******************, ****************, *******************\n",
      "PII Scrubbed Text: ********, +************, ***********, *********\n",
      "PII Scrubbed Text: My name is *********, My name is *****, *****, Mr. ***, Miss. ****, Mrs ***, Dr ***\n",
      "PII Scrubbed Text: ****************\n"
     ]
    }
   ],
   "source": [
    "documents = [\n",
    "    \"4111 1111 1111 1111, 4111111111111111, 4111-1111-1111-1111\", # Sample variation of Visa Card numbers.\n",
    "    \"5105 1051 0510 5100, 5105105105105100, 5105-1051-0510-5100\", # Sample variation of Master Card numbers.\n",
    "    \"56681231, +862056681231, 85256681231, 5668 1231\", # Sample variation of phone numbers.\n",
    "    \"My name is Eason Lai, My name is Eason, Eason, Mr. Lai, Miss. Kwan, Mrs Lai, Dr Lai\", # Sample variation of names.\n",
    "    \"easonlai@msn.com\" # Sample email address.\n",
    "]\n",
    "response = client.recognize_pii_entities(documents, language=\"en\")\n",
    "result = [doc for doc in response if not doc.is_error]\n",
    "for doc in result:\n",
    "    print(\"PII Scrubbed Text: {}\".format(doc.redacted_text))"
   ]
  },
  {
   "cell_type": "code",
   "execution_count": 5,
   "id": "d02ef03e",
   "metadata": {},
   "outputs": [],
   "source": [
    "# Read PII Sample Data into Pandas dataframe\n",
    "pii_df = pd.read_csv('data/pii-sample-data.csv', sep='|')"
   ]
  },
  {
   "cell_type": "code",
   "execution_count": 6,
   "id": "f34f0d8e",
   "metadata": {},
   "outputs": [
    {
     "data": {
      "text/html": [
       "<div>\n",
       "<style scoped>\n",
       "    .dataframe tbody tr th:only-of-type {\n",
       "        vertical-align: middle;\n",
       "    }\n",
       "\n",
       "    .dataframe tbody tr th {\n",
       "        vertical-align: top;\n",
       "    }\n",
       "\n",
       "    .dataframe thead th {\n",
       "        text-align: right;\n",
       "    }\n",
       "</style>\n",
       "<table border=\"1\" class=\"dataframe\">\n",
       "  <thead>\n",
       "    <tr style=\"text-align: right;\">\n",
       "      <th></th>\n",
       "      <th>PII-Sample-Data</th>\n",
       "    </tr>\n",
       "  </thead>\n",
       "  <tbody>\n",
       "    <tr>\n",
       "      <th>0</th>\n",
       "      <td>5555 5537 5304 8194</td>\n",
       "    </tr>\n",
       "    <tr>\n",
       "      <th>1</th>\n",
       "      <td>5555553753048194</td>\n",
       "    </tr>\n",
       "    <tr>\n",
       "      <th>2</th>\n",
       "      <td>5555-5537-5304-8194</td>\n",
       "    </tr>\n",
       "    <tr>\n",
       "      <th>3</th>\n",
       "      <td>5555 5555 5555 4444</td>\n",
       "    </tr>\n",
       "    <tr>\n",
       "      <th>4</th>\n",
       "      <td>5555555555554444</td>\n",
       "    </tr>\n",
       "  </tbody>\n",
       "</table>\n",
       "</div>"
      ],
      "text/plain": [
       "       PII-Sample-Data\n",
       "0  5555 5537 5304 8194\n",
       "1     5555553753048194\n",
       "2  5555-5537-5304-8194\n",
       "3  5555 5555 5555 4444\n",
       "4     5555555555554444"
      ]
     },
     "execution_count": 6,
     "metadata": {},
     "output_type": "execute_result"
    }
   ],
   "source": [
    "# Show top 5 records in PII Sample dataframe\n",
    "pii_df.head()"
   ]
  },
  {
   "cell_type": "code",
   "execution_count": 7,
   "id": "a4a34b86",
   "metadata": {},
   "outputs": [
    {
     "data": {
      "text/plain": [
       "PII-Sample-Data    63\n",
       "dtype: int64"
      ]
     },
     "execution_count": 7,
     "metadata": {},
     "output_type": "execute_result"
    }
   ],
   "source": [
    "# Count number of row in dataframe\n",
    "pii_df.count()"
   ]
  },
  {
   "cell_type": "markdown",
   "id": "19af061b",
   "metadata": {},
   "source": [
    "First level of PII Data Scrubbing by Azure Text Analytics"
   ]
  },
  {
   "cell_type": "code",
   "execution_count": 8,
   "id": "23754bfb",
   "metadata": {
    "scrolled": true
   },
   "outputs": [
    {
     "name": "stdout",
     "output_type": "stream",
     "text": [
      "Scrubbed PII Dataframe Created\n"
     ]
    }
   ],
   "source": [
    "# First level of PII Data Scrubbing by Azure Text Analytics, PII data like, Visa Card number, Master Card number,\n",
    "# American Express Card number, Phone number, Name, Address, Email Address will being scrubbed.\n",
    "scrubbed_pii_df = []\n",
    "\n",
    "for index, headers in pii_df.iterrows():\n",
    "    pii_row = [str(headers['PII-Sample-Data'])]\n",
    "    response = client.recognize_pii_entities(pii_row, language=\"en\")\n",
    "    result = [doc for doc in response if not doc.is_error]\n",
    "    for doc in result:\n",
    "        scrubbed_text = doc.redacted_text\n",
    "        #print(\"{}\".format(doc.redacted_text))\n",
    "        scrubbed_pii_df.append([scrubbed_text])\n",
    "        \n",
    "scrubbed_pii_df = pd.DataFrame(scrubbed_pii_df, columns=['Scrubbed-PII-Sample-Data'])\n",
    "print('Scrubbed PII Dataframe Created')"
   ]
  },
  {
   "cell_type": "code",
   "execution_count": 9,
   "id": "e9bc665f",
   "metadata": {
    "scrolled": false
   },
   "outputs": [
    {
     "data": {
      "text/html": [
       "<div>\n",
       "<style scoped>\n",
       "    .dataframe tbody tr th:only-of-type {\n",
       "        vertical-align: middle;\n",
       "    }\n",
       "\n",
       "    .dataframe tbody tr th {\n",
       "        vertical-align: top;\n",
       "    }\n",
       "\n",
       "    .dataframe thead th {\n",
       "        text-align: right;\n",
       "    }\n",
       "</style>\n",
       "<table border=\"1\" class=\"dataframe\">\n",
       "  <thead>\n",
       "    <tr style=\"text-align: right;\">\n",
       "      <th></th>\n",
       "      <th>Scrubbed-PII-Sample-Data</th>\n",
       "    </tr>\n",
       "  </thead>\n",
       "  <tbody>\n",
       "    <tr>\n",
       "      <th>0</th>\n",
       "      <td>*******************</td>\n",
       "    </tr>\n",
       "    <tr>\n",
       "      <th>1</th>\n",
       "      <td>****************</td>\n",
       "    </tr>\n",
       "    <tr>\n",
       "      <th>2</th>\n",
       "      <td>*******************</td>\n",
       "    </tr>\n",
       "    <tr>\n",
       "      <th>3</th>\n",
       "      <td>*******************</td>\n",
       "    </tr>\n",
       "    <tr>\n",
       "      <th>4</th>\n",
       "      <td>****************</td>\n",
       "    </tr>\n",
       "  </tbody>\n",
       "</table>\n",
       "</div>"
      ],
      "text/plain": [
       "  Scrubbed-PII-Sample-Data\n",
       "0      *******************\n",
       "1         ****************\n",
       "2      *******************\n",
       "3      *******************\n",
       "4         ****************"
      ]
     },
     "execution_count": 9,
     "metadata": {},
     "output_type": "execute_result"
    }
   ],
   "source": [
    "# Show top 5 records in Scrubbed PII dataframe\n",
    "scrubbed_pii_df.head()"
   ]
  },
  {
   "cell_type": "code",
   "execution_count": 10,
   "id": "8979882e",
   "metadata": {},
   "outputs": [
    {
     "data": {
      "text/plain": [
       "63"
      ]
     },
     "execution_count": 10,
     "metadata": {},
     "output_type": "execute_result"
    }
   ],
   "source": [
    "# Count number of row in Scrubbed PII dataframe \n",
    "scrubbed_count = scrubbed_pii_df['Scrubbed-PII-Sample-Data'].str.contains(\"\\*\")\n",
    "scrubbed_count.count()"
   ]
  },
  {
   "cell_type": "code",
   "execution_count": 11,
   "id": "fe66dd85",
   "metadata": {
    "scrolled": true
   },
   "outputs": [
    {
     "data": {
      "text/html": [
       "<div>\n",
       "<style scoped>\n",
       "    .dataframe tbody tr th:only-of-type {\n",
       "        vertical-align: middle;\n",
       "    }\n",
       "\n",
       "    .dataframe tbody tr th {\n",
       "        vertical-align: top;\n",
       "    }\n",
       "\n",
       "    .dataframe thead th {\n",
       "        text-align: right;\n",
       "    }\n",
       "</style>\n",
       "<table border=\"1\" class=\"dataframe\">\n",
       "  <thead>\n",
       "    <tr style=\"text-align: right;\">\n",
       "      <th></th>\n",
       "      <th>Scrubbed-PII-Sample-Data</th>\n",
       "    </tr>\n",
       "  </thead>\n",
       "  <tbody>\n",
       "    <tr>\n",
       "      <th>57</th>\n",
       "      <td>A123459(2)</td>\n",
       "    </tr>\n",
       "    <tr>\n",
       "      <th>58</th>\n",
       "      <td>Z126659 3</td>\n",
       "    </tr>\n",
       "    <tr>\n",
       "      <th>59</th>\n",
       "      <td>A123459-3</td>\n",
       "    </tr>\n",
       "    <tr>\n",
       "      <th>60</th>\n",
       "      <td>Z 123459-3</td>\n",
       "    </tr>\n",
       "    <tr>\n",
       "      <th>61</th>\n",
       "      <td>my id card number is A123459(2)</td>\n",
       "    </tr>\n",
       "    <tr>\n",
       "      <th>62</th>\n",
       "      <td>my hk id is Z126659 3</td>\n",
       "    </tr>\n",
       "  </tbody>\n",
       "</table>\n",
       "</div>"
      ],
      "text/plain": [
       "           Scrubbed-PII-Sample-Data\n",
       "57                       A123459(2)\n",
       "58                        Z126659 3\n",
       "59                        A123459-3\n",
       "60                       Z 123459-3\n",
       "61  my id card number is A123459(2)\n",
       "62            my hk id is Z126659 3"
      ]
     },
     "execution_count": 11,
     "metadata": {},
     "output_type": "execute_result"
    }
   ],
   "source": [
    "# Display any row does not contain masked value *\n",
    "scrubbed_pii_df[~scrubbed_pii_df['Scrubbed-PII-Sample-Data'].str.contains(\"\\*\")]"
   ]
  },
  {
   "cell_type": "markdown",
   "id": "ab9ef565",
   "metadata": {},
   "source": [
    "Second level of PII Data Scrubbing by re library"
   ]
  },
  {
   "cell_type": "code",
   "execution_count": 13,
   "id": "fcadcb8c",
   "metadata": {},
   "outputs": [],
   "source": [
    "# Export Scrubbed PII dataframe to csv file\n",
    "scrubbed_pii_df.to_csv('data\\pii-scrubbed-sample-data.csv', encoding='utf-8', index=False)"
   ]
  },
  {
   "cell_type": "code",
   "execution_count": 14,
   "id": "24ee0c83",
   "metadata": {},
   "outputs": [],
   "source": [
    "# Import necessary libraries\n",
    "import pandas as pd\n",
    "import re"
   ]
  },
  {
   "cell_type": "code",
   "execution_count": 15,
   "id": "0e6f67fd",
   "metadata": {},
   "outputs": [],
   "source": [
    "# Read PII Sample Data into Pandas dataframe\n",
    "pii_df_2 = pd.read_csv('data/pii-scrubbed-sample-data.csv', sep='|')"
   ]
  },
  {
   "cell_type": "code",
   "execution_count": 16,
   "id": "11970e5a",
   "metadata": {},
   "outputs": [
    {
     "data": {
      "text/html": [
       "<div>\n",
       "<style scoped>\n",
       "    .dataframe tbody tr th:only-of-type {\n",
       "        vertical-align: middle;\n",
       "    }\n",
       "\n",
       "    .dataframe tbody tr th {\n",
       "        vertical-align: top;\n",
       "    }\n",
       "\n",
       "    .dataframe thead th {\n",
       "        text-align: right;\n",
       "    }\n",
       "</style>\n",
       "<table border=\"1\" class=\"dataframe\">\n",
       "  <thead>\n",
       "    <tr style=\"text-align: right;\">\n",
       "      <th></th>\n",
       "      <th>Scrubbed-PII-Sample-Data</th>\n",
       "    </tr>\n",
       "  </thead>\n",
       "  <tbody>\n",
       "    <tr>\n",
       "      <th>0</th>\n",
       "      <td>*******************</td>\n",
       "    </tr>\n",
       "    <tr>\n",
       "      <th>1</th>\n",
       "      <td>****************</td>\n",
       "    </tr>\n",
       "    <tr>\n",
       "      <th>2</th>\n",
       "      <td>*******************</td>\n",
       "    </tr>\n",
       "    <tr>\n",
       "      <th>3</th>\n",
       "      <td>*******************</td>\n",
       "    </tr>\n",
       "    <tr>\n",
       "      <th>4</th>\n",
       "      <td>****************</td>\n",
       "    </tr>\n",
       "  </tbody>\n",
       "</table>\n",
       "</div>"
      ],
      "text/plain": [
       "  Scrubbed-PII-Sample-Data\n",
       "0      *******************\n",
       "1         ****************\n",
       "2      *******************\n",
       "3      *******************\n",
       "4         ****************"
      ]
     },
     "execution_count": 16,
     "metadata": {},
     "output_type": "execute_result"
    }
   ],
   "source": [
    "# Show top 5 records in PII Sample dataframe\n",
    "pii_df_2.head()"
   ]
  },
  {
   "cell_type": "code",
   "execution_count": 17,
   "id": "f5de6e83",
   "metadata": {},
   "outputs": [
    {
     "data": {
      "text/plain": [
       "Scrubbed-PII-Sample-Data    63\n",
       "dtype: int64"
      ]
     },
     "execution_count": 17,
     "metadata": {},
     "output_type": "execute_result"
    }
   ],
   "source": [
    "# Count number of row in dataframe\n",
    "pii_df_2.count()"
   ]
  },
  {
   "cell_type": "code",
   "execution_count": 19,
   "id": "b2837822",
   "metadata": {},
   "outputs": [
    {
     "name": "stdout",
     "output_type": "stream",
     "text": [
      "Scrubbed PII Dataframe Created\n"
     ]
    }
   ],
   "source": [
    "# Second level of PII Data Scrubbing by re library, PII data like Hong Kong Identity Card (HK ID) will being scrubbed.\n",
    "scrubbed_pii_df_2 = []\n",
    "\n",
    "for index, headers in pii_df_2.iterrows():\n",
    "    pii_row = str(headers['Scrubbed-PII-Sample-Data'])\n",
    "    pii_scrubbed_row = re.sub(r'(\\d+(?:-\\d+)*)', '*', pii_row)\n",
    "    #print(pii_scrubbed_row)\n",
    "    scrubbed_pii_df_2.append([pii_scrubbed_row])\n",
    "\n",
    "scrubbed_pii_df_2 = pd.DataFrame(scrubbed_pii_df_2, columns=['Scrubbed-PII-Sample-Data'])\n",
    "print('Scrubbed PII Dataframe Created')"
   ]
  },
  {
   "cell_type": "code",
   "execution_count": 22,
   "id": "4b421dad",
   "metadata": {},
   "outputs": [
    {
     "data": {
      "text/html": [
       "<div>\n",
       "<style scoped>\n",
       "    .dataframe tbody tr th:only-of-type {\n",
       "        vertical-align: middle;\n",
       "    }\n",
       "\n",
       "    .dataframe tbody tr th {\n",
       "        vertical-align: top;\n",
       "    }\n",
       "\n",
       "    .dataframe thead th {\n",
       "        text-align: right;\n",
       "    }\n",
       "</style>\n",
       "<table border=\"1\" class=\"dataframe\">\n",
       "  <thead>\n",
       "    <tr style=\"text-align: right;\">\n",
       "      <th></th>\n",
       "      <th>Scrubbed-PII-Sample-Data</th>\n",
       "    </tr>\n",
       "  </thead>\n",
       "  <tbody>\n",
       "    <tr>\n",
       "      <th>0</th>\n",
       "      <td>*******************</td>\n",
       "    </tr>\n",
       "    <tr>\n",
       "      <th>1</th>\n",
       "      <td>****************</td>\n",
       "    </tr>\n",
       "    <tr>\n",
       "      <th>2</th>\n",
       "      <td>*******************</td>\n",
       "    </tr>\n",
       "    <tr>\n",
       "      <th>3</th>\n",
       "      <td>*******************</td>\n",
       "    </tr>\n",
       "    <tr>\n",
       "      <th>4</th>\n",
       "      <td>****************</td>\n",
       "    </tr>\n",
       "  </tbody>\n",
       "</table>\n",
       "</div>"
      ],
      "text/plain": [
       "  Scrubbed-PII-Sample-Data\n",
       "0      *******************\n",
       "1         ****************\n",
       "2      *******************\n",
       "3      *******************\n",
       "4         ****************"
      ]
     },
     "execution_count": 22,
     "metadata": {},
     "output_type": "execute_result"
    }
   ],
   "source": [
    "# Show top 5 records in Scrubbed PII dataframe\n",
    "scrubbed_pii_df_2.head()"
   ]
  },
  {
   "cell_type": "code",
   "execution_count": 23,
   "id": "4c326ee4",
   "metadata": {},
   "outputs": [
    {
     "data": {
      "text/plain": [
       "63"
      ]
     },
     "execution_count": 23,
     "metadata": {},
     "output_type": "execute_result"
    }
   ],
   "source": [
    "# Count number of row in Scrubbed PII dataframe \n",
    "scrubbed_count_2 = scrubbed_pii_df_2['Scrubbed-PII-Sample-Data'].str.contains(\"\\*\")\n",
    "scrubbed_count_2.count()"
   ]
  },
  {
   "cell_type": "code",
   "execution_count": 24,
   "id": "d6c444ab",
   "metadata": {},
   "outputs": [
    {
     "data": {
      "text/html": [
       "<div>\n",
       "<style scoped>\n",
       "    .dataframe tbody tr th:only-of-type {\n",
       "        vertical-align: middle;\n",
       "    }\n",
       "\n",
       "    .dataframe tbody tr th {\n",
       "        vertical-align: top;\n",
       "    }\n",
       "\n",
       "    .dataframe thead th {\n",
       "        text-align: right;\n",
       "    }\n",
       "</style>\n",
       "<table border=\"1\" class=\"dataframe\">\n",
       "  <thead>\n",
       "    <tr style=\"text-align: right;\">\n",
       "      <th></th>\n",
       "      <th>Scrubbed-PII-Sample-Data</th>\n",
       "    </tr>\n",
       "  </thead>\n",
       "  <tbody>\n",
       "  </tbody>\n",
       "</table>\n",
       "</div>"
      ],
      "text/plain": [
       "Empty DataFrame\n",
       "Columns: [Scrubbed-PII-Sample-Data]\n",
       "Index: []"
      ]
     },
     "execution_count": 24,
     "metadata": {},
     "output_type": "execute_result"
    }
   ],
   "source": [
    "# Display any row does not contain masked value *\n",
    "scrubbed_pii_df_2[~scrubbed_pii_df_2['Scrubbed-PII-Sample-Data'].str.contains(\"\\*\")]"
   ]
  },
  {
   "cell_type": "code",
   "execution_count": 25,
   "id": "223c77f4",
   "metadata": {},
   "outputs": [],
   "source": [
    "# Export Scrubbed PII dataframe to csv file\n",
    "scrubbed_pii_df_2.to_csv('data\\pii-scrubbed-sample-data-2.csv', encoding='utf-8', index=False)"
   ]
  }
 ],
 "metadata": {
  "kernelspec": {
   "display_name": "Python 3",
   "language": "python",
   "name": "python3"
  },
  "language_info": {
   "codemirror_mode": {
    "name": "ipython",
    "version": 3
   },
   "file_extension": ".py",
   "mimetype": "text/x-python",
   "name": "python",
   "nbconvert_exporter": "python",
   "pygments_lexer": "ipython3",
   "version": "3.8.8"
  }
 },
 "nbformat": 4,
 "nbformat_minor": 5
}
